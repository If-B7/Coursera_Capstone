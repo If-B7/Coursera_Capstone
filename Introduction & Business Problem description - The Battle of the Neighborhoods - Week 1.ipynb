{
 "cells": [
  {
   "cell_type": "markdown",
   "metadata": {},
   "source": [
    "# Introduction & Business Problem:"
   ]
  },
  {
   "cell_type": "markdown",
   "metadata": {},
   "source": [
    "## a - Introduction: Business Problem "
   ]
  },
  {
   "cell_type": "markdown",
   "metadata": {},
   "source": [
    "The geographical location of a business has a great influence on its accessibility, revenues, profits and survival, etc. Thus, for various reasons, it is essential to conduct a study on the characteristics of certain geographical areas to determine the location of a business. For this work, we want to choose the strategic location of a café restaurant in a district of the capital of a country. To do this, we will first study the characteristics of two different cities in each of the two countries (New York in America and Toronto in Canada). Then, we will choose the most appropriate area of the city that will allow the company to achieve its objectives.\n"
   ]
  },
  {
   "cell_type": "markdown",
   "metadata": {},
   "source": [
    "## b - Problem Description:"
   ]
  },
  {
   "cell_type": "markdown",
   "metadata": {},
   "source": [
    "First of all, globalization has favored immigration, and today we can find a diversity of cuisines and many coffee shops in all cities of the world such as New York, Toronto, etc.\n",
    "Therefore, in order to choose the location of the coffee shop in New York or Toronto, several characteristics should be explored such as\n",
    "The population of the neighborhoods\n",
    "The frequency of coffee restaurants and other places.\n",
    "Population density of the neighborhoods\n",
    "Availability of markets to purchase quality ingredients at a reasonable cost\n",
    "The availability of places of affluence (gyms, entertainment, education, parks, etc. nearby)\n",
    "The list is not exhaustive and can be expanded upon.\n",
    "Therefore, the choice of location is very important for the company before starting its activities.\n",
    "Thus, the first thing to do is to identify in both cities a populated area with high coffee consumption and low frequency of coffee restaurants. Then, we will compare the ratios of the characteristics of the two identified neighborhoods. Finally, we will choose the neighborhood that will favor the business in this exchange market.\n"
   ]
  },
  {
   "cell_type": "markdown",
   "metadata": {},
   "source": [
    "## c - The target audience:"
   ]
  },
  {
   "cell_type": "markdown",
   "metadata": {},
   "source": [
    "In this exploration of the geogrphic area, I will finally choose the neighborhood with a dense population that consumes a lot of products of the coffee restaurant to be implemented. I will also favor the neighborhood that does not have many coffee restaurants."
   ]
  },
  {
   "cell_type": "markdown",
   "metadata": {},
   "source": [
    "### Success Criteria:"
   ]
  },
  {
   "cell_type": "markdown",
   "metadata": {},
   "source": [
    "I will also summarize the criteria that motivated the choice of the neighborhood and therefore the advantages of locating the coffee shop restaurant in the neighborhood."
   ]
  }
 ],
 "metadata": {
  "kernelspec": {
   "display_name": "Python 3",
   "language": "python",
   "name": "python3"
  },
  "language_info": {
   "codemirror_mode": {
    "name": "ipython",
    "version": 3
   },
   "file_extension": ".py",
   "mimetype": "text/x-python",
   "name": "python",
   "nbconvert_exporter": "python",
   "pygments_lexer": "ipython3",
   "version": "3.8.5"
  }
 },
 "nbformat": 4,
 "nbformat_minor": 4
}
